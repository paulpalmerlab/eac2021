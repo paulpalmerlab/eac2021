{
 "cells": [
  {
   "cell_type": "markdown",
   "metadata": {},
   "source": [
    "## Earth's Atmospheric Composition: Computer Laboratory #1\n",
    "\n",
    "Paul Palmer, University of Edinburgh (paul.palmer@ed.ac.uk)"
   ]
  },
  {
   "cell_type": "markdown",
   "metadata": {},
   "source": [
    "### Contents:\n",
    "\n",
    "The learning objectives of this lab are:\n",
    "1. Understand what is an e-folding lifetime.\n",
    "2. Understand what determines the lifetime of a gas that is subject to different loss processes.\n",
    "3. Understand the relevance of an e-folding lifetime is to atmospheric composition.\n",
    "\n",
    "This is a [Jupyter](https://www.jupyter.org \"Jupyter's Homepage\") notebook, which allows you to use the power of Python without much knowledge of the language.\n",
    "\n",
    "**To run the code below:**\n",
    "1. Click on the cell to select it.\n",
    "2. Press SHIFT+ENTER on your keyboard or press the play button () in the toolbar above."
   ]
  },
  {
   "cell_type": "markdown",
   "metadata": {},
   "source": [
    "### Exercise #1: Box model describing time-dependent mass of gas X\n",
    "\n",
    "\n",
    "<img src=\"http://www.geos.ed.ac.uk/~ppalmer/jupyter/images/massbalance.jpg\">\n",
    "\n",
    "\n",
    "The following equation is a simple mass balance model that describes the change in mass of gas $X$ as a function of time $t$:\n",
    "\\begin{equation}\n",
    "\\frac{dX}{dt} = S - \\frac{X}{\\tau}, \n",
    "\\end{equation}\n",
    "where mass is determined by a source $S$ (mass/time) and a loss that is described by an e-folding lifetime $\\tau$ (time). \n",
    "\n",
    "Rearranging and integrating this equation:\n",
    "\\begin{equation}\n",
    "X(t)=X_0\\exp^{-\\frac{t}{\\tau}},\n",
    "\\end{equation}\n",
    "where $X_0$ is the carbon mass at time $t=0$.\n",
    "\n",
    "\n",
    "The following piece of code describes this equation. In this example, we have ignored $S$ ($S$=0), used $\\tau=20$ seconds and X$_0$=10 units. Below we explore the role of $S$ in the model."
   ]
  },
  {
   "cell_type": "code",
   "execution_count": 11,
   "metadata": {},
   "outputs": [
    {
     "data": {
      "text/plain": [
       "Text(0.5,1,'$C(t)=C_0\\\\exp^{-t/tau}$')"
      ]
     },
     "execution_count": 11,
     "metadata": {},
     "output_type": "execute_result"
    },
    {
     "data": {
      "image/png": "[encoded data removed]",
      "text/plain": [
       "<Figure size 720x504 with 1 Axes>"
      ]
     },
     "metadata": {
      "needs_background": "light"
     },
     "output_type": "display_data"
    }
   ],
   "source": [
    "%matplotlib inline\n",
    "from ipywidgets import widgets, interact, interactive\n",
    "from IPython.display import clear_output, display, HTML\n",
    "\n",
    "import numpy as np\n",
    "import pylab as plt\n",
    "import math\n",
    "\n",
    "tau = 20. # 1/seconds\n",
    "c_0 = 10.\n",
    "c = []\n",
    "t = np.arange(100)\n",
    "\n",
    "for ii in np.arange(len(t)): c.append(c_0*np.exp(-t[ii]/tau))\n",
    "\n",
    "plt.figure(figsize=(10,7))\n",
    "plt.plot(t,c)\n",
    "plt.xlabel('Time [unit]')\n",
    "plt.ylabel('Atmospheric mass of carbon [unit]')\n",
    "plt.title('$C(t)=C_0\\exp^{-t/tau}$')\n"
   ]
  },
  {
   "cell_type": "markdown",
   "metadata": {},
   "source": [
    "We can explore a few key concepts with this simple model: 1) e-folding lifetime and 2) mass balance. \n",
    "\n",
    "From the figure above we can see that in the absence of a source the carbon mass progressively gets smaller, which is determined by $\\tau$. Every time $t$ increases by a factor of $\\tau$ the carbon mass is reduced by a factor of $e$, which has a value of approximately 2.72. At $t$=$\\tau$, $C(\\tau)=C_0\\exp^{-1}$ and when $t=2\\tau$, $C(2\\tau) = C_0\\exp^{-2}$. For the example above (using $C_0 = 10$ units) $C(\\tau) = 10\\exp^{-1} = 3.68$, $C(2\\tau) = 10\\exp^{-2} = 1.35$, ...\n",
    "\n",
    "Below is an interactive version of the static figure above. The vertical and horizontal lines are giving you the corresponding values for $t$ and $C(t)$ for $t$=$\\tau$ and $2\\tau$. \n",
    "\n",
    "#### Activities\n",
    "0. Use the slider to explore how the lifetime affects $C(t)$\n",
    "\n",
    "<font color='red'>\n",
    "What you should find is that when you increase (decrease) the e-folding lifetime by moving the slider to the right (left) the concentration of pollutant level decreases more rapidly (slowly). \n",
    "</font>\n",
    "\n",
    "1. Make sure you understand why in this model $C(t)$ reduces in a way that can be described by multiples of $e$.\n",
    "\n",
    "<font color='red'>\n",
    "Recall from above (and in your notes): $C(t)=C_0\\exp^{-\\frac{t}{\\tau}}$. \n",
    "So that if you define $\\tau$=25 and $C_0$ = 10, at time = 25 the expression becomes: $C(t)=\\exp^{-1}$.\n",
    "If you assume $exp^{-1} = 0.37$ then $C(\\tau)$ = 37. \n",
    "Similarly, $C(2\\tau) = \\exp^{-2}$ or 1.4 \n",
    "</font>\n",
    "\n",
    "2. What is the value of $C(3\\tau)$? Double check by adjusting the code. \n",
    "\n",
    "<font color='red'>\n",
    "If you follow the logic above, then $C(3\\tau) = \\exp^{-3} = 0.5$. I have added a line in the code below to double check this value.\n",
    "</font>"
   ]
  },
  {
   "cell_type": "code",
   "execution_count": 12,
   "metadata": {},
   "outputs": [
    {
     "data": {
      "application/vnd.jupyter.widget-view+json": {
       "model_id": "bd5bdbe9ac334397b19614a844ae9bd3",
       "version_major": 2,
       "version_minor": 0
      },
      "text/plain": [
       "interactive(children=(IntSlider(value=25, description='tau', max=50, min=5, step=5), Output()), _dom_classes=(…"
      ]
     },
     "metadata": {},
     "output_type": "display_data"
    }
   ],
   "source": [
    "%matplotlib inline\n",
    "from ipywidgets import widgets, interact, interactive\n",
    "from IPython.display import clear_output, display, HTML\n",
    "\n",
    "import numpy as np\n",
    "import pylab as plt\n",
    "import math\n",
    "\n",
    "def lifetime(tau):\n",
    "    c_0 = 10.\n",
    "    c = []  \n",
    "    t = np.arange(100)\n",
    "    for ii in np.arange(len(t)): c.append(c_0*np.exp(-t[ii]/tau))\n",
    "\n",
    "    plt.figure(figsize=(10,7))\n",
    "    plt.plot(t,c)\n",
    "    \n",
    "    # one e-folding lifetime\n",
    "    cefold = np.exp(-1)*c_0\n",
    "    # two e-folding lifetimes\n",
    "    twocefold = np.exp(-2)*c_0\n",
    "\n",
    "    print('C(t) at one e-folding lifetime: '+'{:5.2f}'.format(cefold))\n",
    "    print('C(t) at two e-folding lifetimes: '+'{:5.2f}'.format(twocefold))\n",
    "    \n",
    "    plt.plot([tau,tau],[0,10],'--')\n",
    "    plt.plot([2*tau,2*tau],[0,10],'--')\n",
    "    plt.plot([tau],[cefold],'*')\n",
    "    plt.plot([0,tau],[cefold,cefold])\n",
    "    plt.plot([2*tau],[twocefold],'*')\n",
    "    plt.plot([0,2*tau],[twocefold,twocefold])\n",
    "    #\n",
    "    # NEW LINES TO EVALUATE AND PLOT C(3*TAU)\n",
    "    #\n",
    "    threecefold = np.exp(-3)*c_0\n",
    "    plt.plot([3*tau],[threecefold],'*')\n",
    "    plt.plot([0,3*tau],[threecefold,threecefold])\n",
    "    plt.plot([3*tau,3*tau],[0,10],'--')\n",
    "    print('C(t) at thre e-folding lifetimes: '+'{:5.2f}'.format(threecefold))\n",
    "    \n",
    "    plt.xlabel('Time [unit]')\n",
    "    plt.ylabel('Atmospheric mass of carbon [unit]')\n",
    "    plt.title('$c(t)=c_0\\exp^{-t/tau}$'+'; tau = '+str(tau))\n",
    "    \n",
    "    \n",
    "interactive(lifetime,tau=(5,50,5))"
   ]
  },
  {
   "cell_type": "markdown",
   "metadata": {},
   "source": [
    "### Side issue: Calculation to support Class 5\n",
    "\n",
    "This code demonstrates how the lifetime of a trace gas, $\\tau$ changes with percentage changes in the abundance of the hydroxyl radical [OH]. We saw in class that if we changed the lifetime of OH by X then the percentage change in lifetime is given by\n",
    "\\begin{equation}\n",
    "\\Delta\\tau= \\frac{-X}{1+X}\n",
    "\\end{equation}\n",
    "\n",
    "So as X gets bigger $\\Delta\\tau$ approaches -1. The following interactive figure should give you some idea of how it works..."
   ]
  },
  {
   "cell_type": "code",
   "execution_count": 13,
   "metadata": {},
   "outputs": [
    {
     "data": {
      "application/vnd.jupyter.widget-view+json": {
       "model_id": "67322cc44c7148af8b3c0d279a5d883c",
       "version_major": 2,
       "version_minor": 0
      },
      "text/plain": [
       "interactive(children=(FloatSlider(value=0.5, description='deltaohIN', max=1.0, min=0.1), Output()), _dom_class…"
      ]
     },
     "metadata": {},
     "output_type": "display_data"
    }
   ],
   "source": [
    "%matplotlib inline\n",
    "from ipywidgets import widgets, interact, interactive\n",
    "from IPython.display import clear_output, display, HTML\n",
    "\n",
    "import numpy as np\n",
    "import pylab as plt\n",
    "import math\n",
    "\n",
    "def deltaPClifetime(deltaohIN):\n",
    "\n",
    "    deltatau = []  \n",
    "    deltaoh = np.arange(0.0,1.1,0.05)    \n",
    "    for ii in np.arange(len(deltaoh)): deltatau.append(-deltaoh[ii]/(1+deltaoh[ii]))\n",
    "    \n",
    "    plt.figure(figsize=(10,7))\n",
    "    plt.plot(deltaoh,deltatau)\n",
    "    \n",
    "    deltatauOUT = -deltaohIN/(1+deltaohIN)\n",
    "    \n",
    "    print(deltaohIN)\n",
    "    \n",
    "    plt.plot([deltaohIN,deltaohIN],[-1,1.0],'--')\n",
    "    plt.plot([0,1.1],[deltatauOUT,deltatauOUT],'--')\n",
    "    plt.plot([deltaohIN],[deltatauOUT],'*')\n",
    "    plt.xlim([0,1.0])\n",
    "    \n",
    "    plt.xlabel('Percentage changes in the abundance of the hydroxyl radical [OH]')\n",
    "    plt.ylabel('Fractional change in atmospheric lifetime')\n",
    "    plt.title('Fractional change in lifetime due to change in OH = '+str(deltatauOUT))\n",
    "    \n",
    "    \n",
    "interactive(deltaPClifetime,deltaohIN=(0.1,1.0,0.1))"
   ]
  },
  {
   "cell_type": "markdown",
   "metadata": {},
   "source": [
    "### Exercise #2: Mass balance box model of gas X\n",
    "\n",
    "Let's return to the original mass balance equation as defined above:\n",
    "\\begin{equation}\n",
    "\\frac{dX}{dt} = S - \\frac{X}{\\tau}, \n",
    "\\end{equation}\n",
    "where all variables are defined as above.\n",
    "\n",
    "\n",
    "#### Activities\n",
    "\n",
    "1. In this activity we retain the source term $S$. \n",
    " * Fix $X_0$ = 300 units and $\\tau$ = 120 units. Adjust the source term from the minimum value of 1 to the maximum value of 5. What do you find?\n",
    " <font color='red'>\n",
    "    At the minimum level of 1, the mass of the gas decreases with time. It decreases less with time up to a value of 2.5 when then the mass of the gas is constant with time. Beyond 2.5, the gas increases with time and reaches a maximum increase with time at the maximum value of 5.   \n",
    " </font>\n",
    " * Return all the sliders back to their middle position. This time adjust the $\\tau$ slider from the smallest to the largest value. What do you find?\n",
    " <font color='red'>\n",
    "Adjusting $\\tau$ results in a similar effect to changing the source strength. The smallest values of $tau$ result in a decrease of the gas with time. At $\\tau$=100, the gas concentration is constant with time. The gas increases with time with larger values of $\\tau$.\n",
    "  </font>\n",
    " * Now freely adjust the $X_0$ *and* $\\tau$ sliders. What do you find?\n",
    "<font color='red'>\n",
    "$X_0$ only defines the initial concentration of the gas. The rate at which is decreases/increases with time is controlled by $\\tau$ for a fixed source value.\n",
    "</font>\n",
    "\n",
    "2. For some pairs of model parameters (e.g., $X_0$ and $\\tau$) you should have found a situation when $X(t)$ remains fixed in time for the entire period. What does mean? Given the value for $S$ and $\\tau$ can you predict the fixed value?\n",
    "<font color='red'>\n",
    "From your notes, you should recall that $\\frac{dX}{dt} = S - \\frac{X}{\\tau} = 0$ means that the sources balance the sinks and the gas is in steady state. It does NOT mean that the source or the loss is equal to zero. In this case $S = \\frac{X}{\\tau}$ so that given $S$ and $\\tau$ you should be able to predict the fixed values $X = \\frac{S}{\\tau}$. \n",
    "</font>\n",
    "3. For other model parameter values you will have found that $X(t)$ reached a steady value later in the run. What does that mean? Given the value for $S$ and $\\tau$ can you predict the final steady value?\n",
    "<font color='red'>\n",
    "Generally, you should find that for a longer-lived gas it takes longer to reach a steady state than a shorter-lives gas primarily because the loss processes needs longer to react to any change. Steady state won't be reached for several e-folding lifetimes, i.e. when the concentration changes are very small. For the longest-lived gas in this example ($\\tau$=220) you can still predict the final steady state but it won't be reached until t $>$ 2600 - the maximum value on the x-axis.\n",
    "<font color='red'>\n",
    "4. Do long-lived or short-lived gases respond quicker to changes in sources?\n",
    "<font color='red'>\n",
    "Short-lived gases will respond quicker. They have shorter lifetimes so variations in their atmospheric level will be determined more by changes in the source term.    \n",
    "</font>\n",
    "5. How do you think an atmospheric gas would respond to a rapidly varying source and a source that has a slower mode of variability?\n",
    "<font color='red'>\n",
    "One such example is CO$_2$. The [Keeling Curve](https://keelingcurve.ucsd.edu/) describes a secular variation due to a combustion that has a slow mode of variability, i.e. it currently increases each year, and a rapidly varying source (and sink) from the natural biosphere (photosynthesis and respiration). The result is a rapid variation superimposed on a slowly increasing value.      \n",
    "</font>"
   ]
  },
  {
   "cell_type": "code",
   "execution_count": 14,
   "metadata": {},
   "outputs": [
    {
     "data": {
      "application/vnd.jupyter.widget-view+json": {
       "model_id": "f0fe53f83af847af8b0dcca4b9b7caf2",
       "version_major": 2,
       "version_minor": 0
      },
      "text/plain": [
       "interactive(children=(FloatSlider(value=3.0, description='S', max=5.0, min=1.0, step=0.5), IntSlider(value=300…"
      ]
     },
     "metadata": {},
     "output_type": "display_data"
    }
   ],
   "source": [
    "%matplotlib inline\n",
    "from ipywidgets import widgets, interact, interactive\n",
    "from IPython.display import clear_output, display, HTML\n",
    "\n",
    "import numpy as np\n",
    "import pylab as plt\n",
    "import math\n",
    "\n",
    "def boxmodel(S,X0,tau):\n",
    "    nyears = 1000 #2016-1957+1\n",
    "    X     = []\n",
    "    years = []\n",
    "    \n",
    "    # Initial conditions\n",
    "    X.append(X0)\n",
    "    years.append(1957)\n",
    "    \n",
    "    for ii in np.arange(nyears)+1:\n",
    "        dX = S - (1./tau)*X[ii-1]\n",
    "        X.append(X[ii-1]+dX)\n",
    "        years.append(ii+1957)\n",
    "        #print(S,(1./tau)*C[ii-1],C[ii])\n",
    "\n",
    "    plt.figure(figsize=(10,7))\n",
    "    plt.plot(years,X)\n",
    "    plt.xlabel('Time [unit]')\n",
    "    plt.xlim([1960,2600])\n",
    "    plt.ylabel('Atmospheric mass of gas X [unit]')\n",
    "    \n",
    "    \n",
    "interactive(boxmodel,S=(1,5,0.5),X0=(299,301,1),tau=(20,220,20))\n"
   ]
  },
  {
   "cell_type": "code",
   "execution_count": null,
   "metadata": {
    "collapsed": true
   },
   "outputs": [],
   "source": []
  }
 ],
 "metadata": {
  "kernelspec": {
   "display_name": "Python 3",
   "language": "python",
   "name": "python3"
  },
  "language_info": {
   "codemirror_mode": {
    "name": "ipython",
    "version": 3
   },
   "file_extension": ".py",
   "mimetype": "text/x-python",
   "name": "python",
   "nbconvert_exporter": "python",
   "pygments_lexer": "ipython3",
   "version": "3.6.8"
  },
  "widgets": {
   "state": {
    "6aba028aebdc4be699364e5075101110": {
     "views": [
      {
       "cell_index": 7
      }
     ]
    },
    "9183acffa63941519ce73e33c3897974": {
     "views": [
      {
       "cell_index": 5
      }
     ]
    }
   },
   "version": "1.2.0"
  }
 },
 "nbformat": 4,
 "nbformat_minor": 1
}
